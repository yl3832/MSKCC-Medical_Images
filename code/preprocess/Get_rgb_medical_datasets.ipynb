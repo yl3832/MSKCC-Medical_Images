{
 "cells": [
  {
   "cell_type": "code",
   "execution_count": 1,
   "metadata": {
    "collapsed": true
   },
   "outputs": [],
   "source": [
    "# Yilin Lyu 6.28.2018\n",
    "# From DICOM images to RGB png images \n",
    "import mritopng\n",
    "from PIL import Image\n",
    "import cv2\n",
    "import numpy as np\n",
    "import os"
   ]
  },
  {
   "cell_type": "code",
   "execution_count": 2,
   "metadata": {
    "collapsed": true
   },
   "outputs": [],
   "source": [
    "def get_grayscale(dir_in='./Cancer_CT_dataset',dir_out='./grayscale_images'):\n",
    "    print(\"processing \"+dir_in[2:])\n",
    "    mritopng.convert_folder(dir_in,dir_out)\n",
    "    print(\"finished converting\")"
   ]
  },
  {
   "cell_type": "code",
   "execution_count": null,
   "metadata": {},
   "outputs": [],
   "source": [
    "get_grayscale()\n",
    "'''\n",
    "Output too long, deleted. \n",
    "'''"
   ]
  },
  {
   "cell_type": "code",
   "execution_count": 7,
   "metadata": {
    "collapsed": true
   },
   "outputs": [],
   "source": [
    "def get_rgb(dir_in='./grayscale_images',dir_out='./rgb_images'):\n",
    "    count=9591\n",
    "    if not os.path.exists(dir_out):\n",
    "            os.makedirs(dir_out)\n",
    "    for folder in os.listdir(dir_in)[1:]:\n",
    "        print(\"processing \"+folder)\n",
    "        current_folder_path = os.path.join(dir_in, folder)\n",
    "        for sub_folder in os.listdir(current_folder_path)[1:]:\n",
    "            print(\"processing \"+sub_folder)\n",
    "            current_sub_folder_path = os.path.join(current_folder_path, sub_folder)\n",
    "            for sec_sub_folder in os.listdir(current_sub_folder_path)[1:]:\n",
    "                print(\"processing \"+sec_sub_folder)\n",
    "                current_sec_sub_folder_path = os.path.join(current_sub_folder_path, sec_sub_folder)\n",
    "                for files in os.listdir(current_sec_sub_folder_path):\n",
    "                    current_file_path = os.path.join(current_sec_sub_folder_path, files)\n",
    "                    if files== '.DS_Store': \n",
    "                        os.remove(current_file_path)\n",
    "                    if not files== '.DS_Store':\n",
    "                        img=Image.open(current_file_path)\n",
    "                        array=np.array(img)\n",
    "                        backtorgb=cv2.cvtColor(array,cv2.COLOR_GRAY2RGB)\n",
    "                        im=Image.fromarray(backtorgb.astype(np.uint8))\n",
    "                        if im.size[0]!=im.size[1]:\n",
    "                            im=im.resize((im.size[1],im.size[1]))\n",
    "                        name=dir_out+'/'+str(count)+'.png'\n",
    "                        im.save(name)\n",
    "                        count=count+1\n",
    "    print(\"all finished\")\n",
    "    print(\"up to now \" + str(count-1)+\" samples created\")"
   ]
  },
  {
   "cell_type": "code",
   "execution_count": 8,
   "metadata": {},
   "outputs": [
    {
     "name": "stdout",
     "output_type": "stream",
     "text": [
      "processing folder\n",
      "processing subfolder\n",
      "processing 1-SCOUTS-65019\n",
      "processing 1-SCOUTS-94673\n",
      "processing 1-SCOUTS-98489\n",
      "processing 2-AXIAL CAP-13097\n",
      "processing 2-AXIAL CAP-58595\n",
      "processing 2-SCOUTS-43411\n",
      "processing 3-c-62948\n",
      "processing 3-NON-CONTRAST-67981\n",
      "processing 4-Recon 2 NON-CONTRAST-97510\n",
      "processing 5-ROUTINE CHEST-19181\n",
      "processing 6-LOCALIZER-69809\n",
      "all finished\n",
      "up to now 14404 samples created\n"
     ]
    }
   ],
   "source": [
    "get_rgb()"
   ]
  },
  {
   "cell_type": "code",
   "execution_count": null,
   "metadata": {
    "collapsed": true
   },
   "outputs": [],
   "source": []
  },
  {
   "cell_type": "code",
   "execution_count": null,
   "metadata": {
    "collapsed": true
   },
   "outputs": [],
   "source": []
  }
 ],
 "metadata": {
  "kernelspec": {
   "display_name": "Python 2",
   "language": "python",
   "name": "python2"
  },
  "language_info": {
   "codemirror_mode": {
    "name": "ipython",
    "version": 2
   },
   "file_extension": ".py",
   "mimetype": "text/x-python",
   "name": "python",
   "nbconvert_exporter": "python",
   "pygments_lexer": "ipython2",
   "version": "2.7.3"
  }
 },
 "nbformat": 4,
 "nbformat_minor": 1
}
